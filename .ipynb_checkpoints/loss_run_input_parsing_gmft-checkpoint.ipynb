{
 "cells": [
  {
   "cell_type": "code",
   "execution_count": null,
   "id": "23f72858",
   "metadata": {},
   "outputs": [],
   "source": [
    "import importlib\n",
    "import gmft\n",
    "import gmft.table_detection\n",
    "import gmft.table_visualization\n",
    "import gmft.table_function\n",
    "import gmft.table_function_algorithm\n",
    "import gmft.table_captioning\n",
    "import gmft.pdf_bindings.bindings_pdfium\n",
    "import gmft.pdf_bindings\n",
    "import gmft.common\n",
    "\n",
    "importlib.reload(gmft)\n",
    "importlib.reload(gmft.common)\n",
    "importlib.reload(gmft.table_captioning)\n",
    "importlib.reload(gmft.table_detection)\n",
    "importlib.reload(gmft.table_visualization)\n",
    "importlib.reload(gmft.table_function)\n",
    "importlib.reload(gmft.table_function_algorithm)\n",
    "importlib.reload(gmft.pdf_bindings.bindings_pdfium)\n",
    "importlib.reload(gmft.pdf_bindings)"
   ]
  }
 ],
 "metadata": {
  "kernelspec": {
   "display_name": "Python UnderstoryVenv",
   "language": "python",
   "name": "myenv"
  },
  "language_info": {
   "codemirror_mode": {
    "name": "ipython",
    "version": 3
   },
   "file_extension": ".py",
   "mimetype": "text/x-python",
   "name": "python",
   "nbconvert_exporter": "python",
   "pygments_lexer": "ipython3",
   "version": "3.12.3"
  }
 },
 "nbformat": 4,
 "nbformat_minor": 5
}
